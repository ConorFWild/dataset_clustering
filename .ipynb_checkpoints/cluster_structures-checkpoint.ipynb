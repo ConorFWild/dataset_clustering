{
 "cells": [
  {
   "cell_type": "code",
   "execution_count": null,
   "metadata": {},
   "outputs": [],
   "source": [
    "# Imports\n",
    "\n",
    "# Core\n",
    "from pathlib import Path\n",
    "\n",
    "# Science\n",
    "import numpy as np\n",
    "import hdbscan\n",
    "\n",
    "# Plotting\n",
    "import seaborn as sns\n",
    "\n",
    "\n",
    "# Crystalography\n",
    "import mdc3\n",
    "from mdc3.types.datasets import MultiCrystalDataset\n",
    "from mdc3.types.real_space import (MCDXMap,\n",
    "                                   xmap_to_numpy_cartesian_axis,\n",
    "                                   xmap_from_dataset,\n",
    "                                   xmap_to_numpy_crystalographic_axis,\n",
    "                                   )\n",
    "from mdc3.functions.alignment import align_datasets\n",
    "from mdc3.types import base\n",
    "\n"
   ]
  },
  {
   "cell_type": "code",
   "execution_count": null,
   "metadata": {},
   "outputs": [],
   "source": [
    "# Arguments\n",
    "data_dirs = \"/dls/science/groups/i04-1/conor_dev/dataset_clustering/redone/MUREECA\""
   ]
  },
  {
   "cell_type": "code",
   "execution_count": null,
   "metadata": {},
   "outputs": [],
   "source": [
    "# Load datasets\n",
    "dataset = MultiCrystalDataset.mcd_from_pandda_input_dir(Path(data_dirs),\n",
    "                                                       pdb_regex=\"*_final.pdb\",\n",
    "                                                       mtz_regex=\"*_final.mtz\",\n",
    "                                                       )\n",
    "dataset.datasets"
   ]
  },
  {
   "cell_type": "code",
   "execution_count": null,
   "metadata": {},
   "outputs": [],
   "source": [
    "# Hashmap\n",
    "datasets = base.HashMap(dataset.datasets)"
   ]
  },
  {
   "cell_type": "code",
   "execution_count": null,
   "metadata": {},
   "outputs": [],
   "source": [
    "# Filter datasets with different numbers of CAs\n",
    "first_dataset_key = list(datasets._dictionary.keys())[-1]\n",
    "reference_dataset = datasets[first_dataset_key]\n",
    "# def get_number_cas(d):\n",
    "#     return len([atom for atom in d.structure.structure.get_atoms() if atom.name == \"CA\"])\n",
    "# def get_number_res(d):\n",
    "#     ress = []\n",
    "#     for res in d.structure.structure.get_residues():\n",
    "#         print(res.get_id())\n",
    "#         try:\n",
    "#             ca = res[\"CA\"]\n",
    "#             print(ca.get_full_id())\n",
    "#             ress.append(res)\n",
    "#         except:\n",
    "#             pass\n",
    "        \n",
    "#     return ress\n",
    "    \n",
    "# reference_dataset_num_cas = get_number_cas(reference_dataset)\n",
    "# print(reference_dataset_num_cas)\n",
    "# # reference_dataset_num_cas\n",
    "# for dtag, d in datasets._dictionary.items():\n",
    "#     print(dtag, get_number_cas(dataset), get_number_res(d))\n",
    "    "
   ]
  },
  {
   "cell_type": "code",
   "execution_count": null,
   "metadata": {},
   "outputs": [],
   "source": [
    "# Align pdbs\n",
    "aligned_datasets = datasets.bind(lambda d: align_datasets(reference_dataset, d))"
   ]
  },
  {
   "cell_type": "code",
   "execution_count": null,
   "metadata": {},
   "outputs": [],
   "source": [
    "aligned_datasets._dictionary"
   ]
  },
  {
   "cell_type": "code",
   "execution_count": null,
   "metadata": {},
   "outputs": [],
   "source": [
    "# Cluster atom coords\n",
    "def get_atom_coord_matrix(dataset):\n",
    "    coords = [atom.coord for atom in dataset.structure.structure.get_atoms() if atom.name]\n",
    "    array = np.array(coords).flatten()\n",
    "    return array\n",
    "atomic_matricies = aligned_datasets.bind(get_atom_coord_matrix)"
   ]
  },
  {
   "cell_type": "code",
   "execution_count": null,
   "metadata": {},
   "outputs": [],
   "source": [
    "np.vstack(atomic_matricies._dictionary.values())"
   ]
  },
  {
   "cell_type": "code",
   "execution_count": null,
   "metadata": {},
   "outputs": [],
   "source": [
    "# Plot\n"
   ]
  }
 ],
 "metadata": {
  "kernelspec": {
   "display_name": "Python 3",
   "language": "python",
   "name": "python3"
  },
  "language_info": {
   "codemirror_mode": {
    "name": "ipython",
    "version": 3
   },
   "file_extension": ".py",
   "mimetype": "text/x-python",
   "name": "python",
   "nbconvert_exporter": "python",
   "pygments_lexer": "ipython3",
   "version": "3.7.3"
  }
 },
 "nbformat": 4,
 "nbformat_minor": 2
}
